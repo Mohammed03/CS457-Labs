{
 "cells": [
  {
   "cell_type": "markdown",
   "metadata": {},
   "source": [
    "# Exercises with Python"
   ]
  },
  {
   "cell_type": "code",
   "execution_count": 3,
   "metadata": {},
   "outputs": [],
   "source": [
    "import numpy as np\n",
    "import matplotlib.pyplot as plt\n",
    "import pandas as pd\n",
    "import random"
   ]
  },
  {
   "cell_type": "markdown",
   "metadata": {},
   "source": [
    "## Exercise 1 - Numpy\n",
    "#### Creat an array of 450 random integers between -10 and 10"
   ]
  },
  {
   "cell_type": "code",
   "execution_count": 6,
   "metadata": {},
   "outputs": [
    {
     "data": {
      "text/plain": [
       "array([ -5,   4,   5,   0,  -9,  -8,   9,  -9, -10,  10,  -3,   7,   7,\n",
       "       -10,  -4,  -5,  -8,  -8,  -1,  -2,  -3,  -2,   4,  -7,  -5,   7,\n",
       "        -7,   0,   2,  -8,  -1,   2,   9,   3,   1,   4,  -5,   3,  -2,\n",
       "         2,  10,  -3,   7,  -5,  -6,   4,  -1,   7,   7,  10,  -4,   1,\n",
       "         6,   3,   3,  10,   2,   4,   0,  -4,   9,  -2,   5,   0, -10,\n",
       "        -4,   5,  -1,  -5,   1,   8,   1,   9,   2,   6,   9,  -4,   5,\n",
       "         9,   3,   2,  -1, -10,   0,   6,   1,   8,  -4,   8,  -6,   8,\n",
       "        10, -10,  -5,   2,   6,   9,   7,  -7,  -6,  -5,   8,  -7,   3,\n",
       "         4,  -1,   1,   3,  -7,   3,   7,  -2,  10,  10,  -4,   6,   0,\n",
       "        -1,  -5, -10, -10,  -8,   6,  10,  -2,   4,   1,  -6,  10,   7,\n",
       "        10, -10,  10,  -4,   9,  -7,  -9,  -2,  -6,   7, -10,  -3,   7,\n",
       "         3,   9,   2,   3,   9,   0,   9,   1,   4,  -8,   0,  -1,   3,\n",
       "       -10,  -4,   7,  -6,  -2,  -2,  10,   8,   6,   7,   2,  10,   8,\n",
       "         3,   9,   5,  -9,   3,   5,  -3,  10,  -1,  -4,   9,   7,  10,\n",
       "        -3,  -7,   8,   1,   4,   7,   3,  -8,   5,  -8,   9,  -7,  -4,\n",
       "       -10,   7,  -5,   9,  -6,  10,  10,  -9,  -9,  -4,   2,   0,  -9,\n",
       "         9,   5,   9,   9,  -6, -10,  10,   1,  -9,  -2,   3,  -4,   1,\n",
       "         2,  -8,  -6,  -5,  -6,  -8, -10,   4,  -7,  10,   9,  -2,  -7,\n",
       "         2,   2,  -1,   3,  -9,   3,  -5,   7,   0,   3,  -6,   0,   3,\n",
       "        -1, -10,  -4,   3,   4,   3,  -7,  -2,   5,   2,  -4,  -4,  -4,\n",
       "        -6, -10,  -3,  -4,  -6, -10,   8,  -8,   8, -10,   9,   8,   1,\n",
       "        -5,  -8,   7,  -5,  -9, -10,  -6,   8,   4,  10,  -6, -10, -10,\n",
       "        -7,  10,  -4,   0,   0,   8,  -3,  -8,  10,   6,  -5,   7,  -4,\n",
       "        -5,  -6,   5,  -8,   2,   5,   1,   0,   4,   8,  -7,   6,   3,\n",
       "         6,  -4,   9,   0, -10,   0,  -9,   8,   8,  -1,  -6,   6,   5,\n",
       "        -1,   3,   2,   7,   5,  -8,   5,  -3,  -1,  -3,  -8,  -1,  -6,\n",
       "         9,  -8,  -8,   9,  -4,  -2, -10,   1,   0,  -5,   0,  -1,  -8,\n",
       "         9,  10,  -4,   1,   5,  -8,   1,  -6,  -5,   3,   7,  -1, -10,\n",
       "       -10,   4,   5,  -9,   3,  -5,   5,   3,   0,  -7,  -7,  -4,   8,\n",
       "        -7,   7,   8,  -7,   5,  -1,   8,   2,  -3,   1,  -4,   0,  -5,\n",
       "         9,   2,  -1,   1,   1,  -8,   4,   3,  -1,  -1,  10,   2,  -2,\n",
       "         3,   2,   7,   2,   5,   8,   5,  -6,  -9,   5,   1,   2,   4,\n",
       "        -6,   1,   6,   9,   3,   1,  -7, -10,   5,  -6,   7,   2,   5,\n",
       "       -10,   9,   6,   8,   9,  -1,   3,  -2,  -2,  10,  -2,  10,   2,\n",
       "         2,  -1,  10,  -3,  -8,   0,   0,   5])"
      ]
     },
     "execution_count": 6,
     "metadata": {},
     "output_type": "execute_result"
    }
   ],
   "source": [
    "# Your code: \n",
    "\n",
    "array = np.random.randint(-10,11,450)\n",
    "\n",
    "array"
   ]
  },
  {
   "cell_type": "markdown",
   "metadata": {},
   "source": [
    "#### Resize the above array as a 5x70 matrix. \n",
    "#### Is there a problem? \n",
    "\n",
    "#### If there is, correct it to a suitable shape.\n",
    "\n",
    "We check what dimension our array has:"
   ]
  },
  {
   "cell_type": "code",
   "execution_count": 12,
   "metadata": {},
   "outputs": [
    {
     "name": "stdout",
     "output_type": "stream",
     "text": [
      "(450,)\n"
     ]
    }
   ],
   "source": [
    "# Your code:\n",
    "\n",
    "print(array.shape)\n",
    "\n",
    "new_matrix = array.reshape(5,70)# your code\n",
    "\n",
    "\n",
    "# Is there a problem? why?\n",
    "#Please add your idea\n",
    "# the dimensions of the array is not big enough to fit 450 integers\n",
    "\n"
   ]
  },
  {
   "cell_type": "code",
   "execution_count": 14,
   "metadata": {},
   "outputs": [
    {
     "data": {
      "text/plain": [
       "(450,)"
      ]
     },
     "execution_count": 14,
     "metadata": {},
     "output_type": "execute_result"
    }
   ],
   "source": [
    "array.shape"
   ]
  },
  {
   "cell_type": "markdown",
   "metadata": {},
   "source": [
    "We resize:"
   ]
  },
  {
   "cell_type": "code",
   "execution_count": 17,
   "metadata": {},
   "outputs": [],
   "source": [
    "corrected_matrix = array.reshape(5,90) \n"
   ]
  },
  {
   "cell_type": "markdown",
   "metadata": {},
   "source": [
    "#### Choose values greater than 0 from your corrected_matrix."
   ]
  },
  {
   "cell_type": "code",
   "execution_count": 21,
   "metadata": {},
   "outputs": [
    {
     "data": {
      "text/plain": [
       "array([ 4,  5,  9, 10,  7,  7,  4,  7,  2,  2,  9,  3,  1,  4,  3,  2, 10,\n",
       "        7,  4,  7,  7, 10,  1,  6,  3,  3, 10,  2,  4,  9,  5,  5,  1,  8,\n",
       "        1,  9,  2,  6,  9,  5,  9,  3,  2,  6,  1,  8,  8,  8, 10,  2,  6,\n",
       "        9,  7,  8,  3,  4,  1,  3,  3,  7, 10, 10,  6,  6, 10,  4,  1, 10,\n",
       "        7, 10, 10,  9,  7,  7,  3,  9,  2,  3,  9,  9,  1,  4,  3,  7, 10,\n",
       "        8,  6,  7,  2, 10,  8,  3,  9,  5,  3,  5, 10,  9,  7, 10,  8,  1,\n",
       "        4,  7,  3,  5,  9,  7,  9, 10, 10,  2,  9,  5,  9,  9, 10,  1,  3,\n",
       "        1,  2,  4, 10,  9,  2,  2,  3,  3,  7,  3,  3,  3,  4,  3,  5,  2,\n",
       "        8,  8,  9,  8,  1,  7,  8,  4, 10, 10,  8, 10,  6,  7,  5,  2,  5,\n",
       "        1,  4,  8,  6,  3,  6,  9,  8,  8,  6,  5,  3,  2,  7,  5,  5,  9,\n",
       "        9,  1,  9, 10,  1,  5,  1,  3,  7,  4,  5,  3,  5,  3,  8,  7,  8,\n",
       "        5,  8,  2,  1,  9,  2,  1,  1,  4,  3, 10,  2,  3,  2,  7,  2,  5,\n",
       "        8,  5,  5,  1,  2,  4,  1,  6,  9,  3,  1,  5,  7,  2,  5,  9,  6,\n",
       "        8,  9,  3, 10, 10,  2,  2, 10,  5])"
      ]
     },
     "execution_count": 21,
     "metadata": {},
     "output_type": "execute_result"
    }
   ],
   "source": [
    "greaterArray = corrected_matrix[corrected_matrix > 0]\n",
    "greaterArray"
   ]
  },
  {
   "cell_type": "markdown",
   "metadata": {},
   "source": [
    "#### Given this array x = np.array ([- 5,6, -7,9]), create another array in absolute value "
   ]
  },
  {
   "cell_type": "code",
   "execution_count": 25,
   "metadata": {},
   "outputs": [
    {
     "data": {
      "text/plain": [
       "array([5, 6, 7, 9])"
      ]
     },
     "execution_count": 25,
     "metadata": {},
     "output_type": "execute_result"
    }
   ],
   "source": [
    "# your code:\n",
    "x = np.array([-5,6,-7,9])\n",
    "x = np.abs(x)\n",
    "x"
   ]
  },
  {
   "cell_type": "markdown",
   "metadata": {},
   "source": [
    "#### Given this array x = np.array ([- 5,6, -7,9]), transform it into a 2x2 matrix and calculate the maximum and minimum of each row and column. "
   ]
  },
  {
   "cell_type": "code",
   "execution_count": 47,
   "metadata": {},
   "outputs": [],
   "source": [
    "# your code:\n",
    "x = np.array([-5,6,-7,9])\n",
    "x_reshaped = x.reshape(2,2)\n",
    "\n",
    "columnmax = x_reshaped.max(axis = 0)\n",
    "rowmax = x_reshaped.max(axis = 1)\n",
    "\n",
    "columnmin = x_reshaped.min(axis = 0)\n",
    "rowmin = x_reshaped.min(axis = 1)\n",
    "\n"
   ]
  },
  {
   "cell_type": "markdown",
   "metadata": {},
   "source": [
    "#### Create a matrix of ones with 3x3 range as a_ones, and modify the the a_ones[1][0] = 3  "
   ]
  },
  {
   "cell_type": "code",
   "execution_count": 51,
   "metadata": {},
   "outputs": [
    {
     "data": {
      "text/plain": [
       "array([[1, 1, 1],\n",
       "       [3, 1, 1],\n",
       "       [1, 1, 1]])"
      ]
     },
     "execution_count": 51,
     "metadata": {},
     "output_type": "execute_result"
    }
   ],
   "source": [
    "# your code:\n",
    "\n",
    "a_ones = np.ones((3, 3), dtype=int)\n",
    "\n",
    "a_ones[1][0] = 3\n",
    "\n",
    "a_ones\n"
   ]
  },
  {
   "cell_type": "markdown",
   "metadata": {},
   "source": [
    "#### Compute dot product for a_ones and x_reshaped"
   ]
  },
  {
   "cell_type": "code",
   "execution_count": 57,
   "metadata": {},
   "outputs": [
    {
     "ename": "ValueError",
     "evalue": "shapes (2,2) and (3,3) not aligned: 2 (dim 1) != 3 (dim 0)",
     "output_type": "error",
     "traceback": [
      "\u001b[1;31m---------------------------------------------------------------------------\u001b[0m",
      "\u001b[1;31mValueError\u001b[0m                                Traceback (most recent call last)",
      "Cell \u001b[1;32mIn[57], line 1\u001b[0m\n\u001b[1;32m----> 1\u001b[0m result \u001b[38;5;241m=\u001b[39m x_reshaped\u001b[38;5;241m.\u001b[39mdot(a_ones)\n\u001b[0;32m      4\u001b[0m result\n",
      "\u001b[1;31mValueError\u001b[0m: shapes (2,2) and (3,3) not aligned: 2 (dim 1) != 3 (dim 0)"
     ]
    }
   ],
   "source": [
    "result = a_ones.dot(x_reshaped)\n",
    "\n",
    "\n",
    "result\n",
    "#not possible because we are trying to multiply 3x3 by 2x2 matrix\n",
    "# List the mathematical calculation steps\n"
   ]
  },
  {
   "cell_type": "markdown",
   "metadata": {},
   "source": [
    "## Exercise 2 - Plot Practice"
   ]
  },
  {
   "cell_type": "markdown",
   "metadata": {},
   "source": [
    "#### Undergraduate student Instructions (CS457)\n",
    "\n",
    "- Let's think if we have this function: f (t) defined by: f (t) = 2t / (1 + t ^ 2) ^ 2 with t> 0.\n",
    "- Where t could be generated by np.linspace(0,10,100)\n",
    "- Provide plot results"
   ]
  },
  {
   "cell_type": "code",
   "execution_count": 5,
   "metadata": {},
   "outputs": [],
   "source": [
    "# Your code:\n",
    "def f(t):\n",
    "    return 2 * t / (1 + t**2)**2\n",
    "t = np.linspace(0,10,100)\n",
    "ft = f(t)"
   ]
  },
  {
   "cell_type": "code",
   "execution_count": 9,
   "metadata": {},
   "outputs": [
    {
     "data": {
      "image/png": "[encoded data removed]",
      "text/plain": [
       "<Figure size 800x500 with 1 Axes>"
      ]
     },
     "metadata": {},
     "output_type": "display_data"
    }
   ],
   "source": [
    "# Plot graph with x, y and label set the fontsize = 14\n",
    "# Plot <Your Name> + title and set the fontsize = 14\n",
    "# plot size as (8,5)\n",
    "# plot with legend\n",
    "# plot with grid\n",
    "\n",
    "plt.figure(figsize=(8, 5))  # Set the figure size\n",
    "plt.plot(t, ft, label=\"f(t) = 2t / (1 + t^2)^2\")\n",
    "plt.title(\"Mohammed Mohideen + Graph of $y = \\\\frac{2x}{(1+x^2)^2}$\", fontsize=14)\n",
    "plt.grid(True, linestyle='-') \n",
    "plt.legend(fontsize=12)\n",
    "\n",
    "plt.show()"
   ]
  },
  {
   "cell_type": "markdown",
   "metadata": {
    "jp-MarkdownHeadingCollapsed": true
   },
   "source": [
    "#### Graduate student Instructions (CS557)\n",
    "\n",
    "- Let's think if we have this function: f (t) defined by: f (t) = 2t / (1 + t ^ 2) ^ 2 with t> 0.\n",
    "- Where t could be generated by np.linspace(0,10,100)\n",
    "- Provide line graph with mask = star\n",
    "- Provide bar graph with any 5 points data"
   ]
  },
  {
   "cell_type": "code",
   "execution_count": null,
   "metadata": {},
   "outputs": [],
   "source": [
    "# Your code:\n"
   ]
  },
  {
   "cell_type": "code",
   "execution_count": null,
   "metadata": {},
   "outputs": [],
   "source": [
    "# Line Graph\n",
    "# Plot graph with x, y and label set the fontsize = 14\n",
    "# Plot <Your Name> + title and set the fontsize = 14\n",
    "# plot size as (8,5)\n",
    "# plot with legend\n",
    "# plot with grid\n",
    "\n",
    "\n",
    "plt.title(\"<Your Name> + Graph of $y = \\\\frac{2x}{(1+x^2)^2}$\", fontsize=14)\n",
    "\n",
    "plt.show()"
   ]
  },
  {
   "cell_type": "code",
   "execution_count": null,
   "metadata": {},
   "outputs": [],
   "source": [
    "# Bar Graph\n",
    "# Plot graph with x, y and label set the fontsize = 14\n",
    "# Plot <Your Name> + title and set the fontsize = 14\n",
    "# plot size as (8,5)\n",
    "# plot with legend\n",
    "# plot with grid\n",
    "\n",
    "\n",
    "plt.title(\"<Your Name> + Graph of $y = \\\\frac{2x}{(1+x^2)^2}$\", fontsize=14)\n",
    "\n",
    "plt.show()"
   ]
  },
  {
   "cell_type": "markdown",
   "metadata": {},
   "source": [
    "# Exercise 3 - Pandas "
   ]
  },
  {
   "cell_type": "markdown",
   "metadata": {},
   "source": [
    "#### You have obtained a piece of data about a hill. Please manually assign this data to a dictionary.\n",
    "\n",
    "\n",
    "\"Hill Name\": [\"Everest\", \"K2\", \"Kangchenjunga\", \"Lhotse\", \"Makalu\", \"Cho Oyu\", \"Dhaulagiri\", \"Manaslu\", \"Nanga Parbat\", \"Annapurna\"],\n",
    "\n",
    "\"Height (m)\": [8848, 8611, 8586, 8516, 8485, 8188, 8167, 8163, 8126, 8091],\n",
    "\n",
    "\"Location\": [\"Nepal/China\", \"Pakistan/China\", \"Nepal/India\", \"Nepal/China\", \"Nepal/China\", \"Nepal/China\", \"Nepal\", \"Nepal\", \"Pakistan\", \"Nepal\"],\n",
    "\n",
    "\"First Ascent Year\": [1953, 1954, 1955, 1956, 1955, 1954, 1960, 1956, 1953, 1950],\n",
    "\n",
    "\"Prominence (m)\": [8848, 4017, 3922, 610, 2378, 2340, 3357, 3092, 4608, 2984]\n"
   ]
  },
  {
   "cell_type": "code",
   "execution_count": 15,
   "metadata": {},
   "outputs": [],
   "source": [
    "# Your code: \n",
    "hill_data =  {\"Hill Name\": [\"Everest\", \"K2\", \"Kangchenjunga\", \"Lhotse\", \"Makalu\", \"Cho Oyu\", \"Dhaulagiri\", \"Manaslu\", \"Nanga Parbat\", \"Annapurna\"],\n",
    "\n",
    "\"Height (m)\": [8848, 8611, 8586, 8516, 8485, 8188, 8167, 8163, 8126, 8091],\n",
    "\n",
    "\"Location\": [\"Nepal/China\", \"Pakistan/China\", \"Nepal/India\", \"Nepal/China\", \"Nepal/China\", \"Nepal/China\", \"Nepal\", \"Nepal\", \"Pakistan\", \"Nepal\"],\n",
    "\n",
    "\"First Ascent Year\": [1953, 1954, 1955, 1956, 1955, 1954, 1960, 1956, 1953, 1950],\n",
    "\n",
    "\"Prominence (m)\": [8848, 4017, 3922, 610, 2378, 2340, 3357, 3092, 4608, 2984]}"
   ]
  },
  {
   "cell_type": "markdown",
   "metadata": {},
   "source": [
    "#### Convert your dictionary to a pandas dataframe with name hill_pd"
   ]
  },
  {
   "cell_type": "code",
   "execution_count": 20,
   "metadata": {},
   "outputs": [],
   "source": [
    "\n",
    "#Your code:\n",
    "dataframe = pd.DataFrame(hill_data)\n"
   ]
  },
  {
   "cell_type": "markdown",
   "metadata": {},
   "source": [
    "#### Save your hill_pd to csv"
   ]
  },
  {
   "cell_type": "code",
   "execution_count": 22,
   "metadata": {},
   "outputs": [],
   "source": [
    "# Your code:\n",
    "dataframe.to_csv('file.csv')"
   ]
  },
  {
   "cell_type": "markdown",
   "metadata": {},
   "source": [
    "#### Read your hill data from your csv"
   ]
  },
  {
   "cell_type": "code",
   "execution_count": 27,
   "metadata": {},
   "outputs": [
    {
     "data": {
      "text/html": [
       "<div>\n",
       "<style scoped>\n",
       "    .dataframe tbody tr th:only-of-type {\n",
       "        vertical-align: middle;\n",
       "    }\n",
       "\n",
       "    .dataframe tbody tr th {\n",
       "        vertical-align: top;\n",
       "    }\n",
       "\n",
       "    .dataframe thead th {\n",
       "        text-align: right;\n",
       "    }\n",
       "</style>\n",
       "<table border=\"1\" class=\"dataframe\">\n",
       "  <thead>\n",
       "    <tr style=\"text-align: right;\">\n",
       "      <th></th>\n",
       "      <th>Unnamed: 0</th>\n",
       "      <th>Hill Name</th>\n",
       "      <th>Height (m)</th>\n",
       "      <th>Location</th>\n",
       "      <th>First Ascent Year</th>\n",
       "      <th>Prominence (m)</th>\n",
       "    </tr>\n",
       "  </thead>\n",
       "  <tbody>\n",
       "    <tr>\n",
       "      <th>0</th>\n",
       "      <td>0</td>\n",
       "      <td>Everest</td>\n",
       "      <td>8848</td>\n",
       "      <td>Nepal/China</td>\n",
       "      <td>1953</td>\n",
       "      <td>8848</td>\n",
       "    </tr>\n",
       "    <tr>\n",
       "      <th>1</th>\n",
       "      <td>1</td>\n",
       "      <td>K2</td>\n",
       "      <td>8611</td>\n",
       "      <td>Pakistan/China</td>\n",
       "      <td>1954</td>\n",
       "      <td>4017</td>\n",
       "    </tr>\n",
       "    <tr>\n",
       "      <th>2</th>\n",
       "      <td>2</td>\n",
       "      <td>Kangchenjunga</td>\n",
       "      <td>8586</td>\n",
       "      <td>Nepal/India</td>\n",
       "      <td>1955</td>\n",
       "      <td>3922</td>\n",
       "    </tr>\n",
       "    <tr>\n",
       "      <th>3</th>\n",
       "      <td>3</td>\n",
       "      <td>Lhotse</td>\n",
       "      <td>8516</td>\n",
       "      <td>Nepal/China</td>\n",
       "      <td>1956</td>\n",
       "      <td>610</td>\n",
       "    </tr>\n",
       "    <tr>\n",
       "      <th>4</th>\n",
       "      <td>4</td>\n",
       "      <td>Makalu</td>\n",
       "      <td>8485</td>\n",
       "      <td>Nepal/China</td>\n",
       "      <td>1955</td>\n",
       "      <td>2378</td>\n",
       "    </tr>\n",
       "    <tr>\n",
       "      <th>5</th>\n",
       "      <td>5</td>\n",
       "      <td>Cho Oyu</td>\n",
       "      <td>8188</td>\n",
       "      <td>Nepal/China</td>\n",
       "      <td>1954</td>\n",
       "      <td>2340</td>\n",
       "    </tr>\n",
       "    <tr>\n",
       "      <th>6</th>\n",
       "      <td>6</td>\n",
       "      <td>Dhaulagiri</td>\n",
       "      <td>8167</td>\n",
       "      <td>Nepal</td>\n",
       "      <td>1960</td>\n",
       "      <td>3357</td>\n",
       "    </tr>\n",
       "    <tr>\n",
       "      <th>7</th>\n",
       "      <td>7</td>\n",
       "      <td>Manaslu</td>\n",
       "      <td>8163</td>\n",
       "      <td>Nepal</td>\n",
       "      <td>1956</td>\n",
       "      <td>3092</td>\n",
       "    </tr>\n",
       "    <tr>\n",
       "      <th>8</th>\n",
       "      <td>8</td>\n",
       "      <td>Nanga Parbat</td>\n",
       "      <td>8126</td>\n",
       "      <td>Pakistan</td>\n",
       "      <td>1953</td>\n",
       "      <td>4608</td>\n",
       "    </tr>\n",
       "    <tr>\n",
       "      <th>9</th>\n",
       "      <td>9</td>\n",
       "      <td>Annapurna</td>\n",
       "      <td>8091</td>\n",
       "      <td>Nepal</td>\n",
       "      <td>1950</td>\n",
       "      <td>2984</td>\n",
       "    </tr>\n",
       "  </tbody>\n",
       "</table>\n",
       "</div>"
      ],
      "text/plain": [
       "   Unnamed: 0      Hill Name  Height (m)        Location  First Ascent Year  \\\n",
       "0           0        Everest        8848     Nepal/China               1953   \n",
       "1           1             K2        8611  Pakistan/China               1954   \n",
       "2           2  Kangchenjunga        8586     Nepal/India               1955   \n",
       "3           3         Lhotse        8516     Nepal/China               1956   \n",
       "4           4         Makalu        8485     Nepal/China               1955   \n",
       "5           5        Cho Oyu        8188     Nepal/China               1954   \n",
       "6           6     Dhaulagiri        8167           Nepal               1960   \n",
       "7           7        Manaslu        8163           Nepal               1956   \n",
       "8           8   Nanga Parbat        8126        Pakistan               1953   \n",
       "9           9      Annapurna        8091           Nepal               1950   \n",
       "\n",
       "   Prominence (m)  \n",
       "0            8848  \n",
       "1            4017  \n",
       "2            3922  \n",
       "3             610  \n",
       "4            2378  \n",
       "5            2340  \n",
       "6            3357  \n",
       "7            3092  \n",
       "8            4608  \n",
       "9            2984  "
      ]
     },
     "execution_count": 27,
     "metadata": {},
     "output_type": "execute_result"
    }
   ],
   "source": [
    "# your code\n",
    "pd.read_csv('file.csv')"
   ]
  },
  {
   "cell_type": "markdown",
   "metadata": {},
   "source": [
    "#### Please select hills with an altitude higher than 8100 meters and express them in the form of a bar graph."
   ]
  },
  {
   "cell_type": "code",
   "execution_count": 38,
   "metadata": {},
   "outputs": [],
   "source": [
    "# your code:\n",
    "\n",
    "selected_hill = dataframe[dataframe[\"Height (m)\"] > 8100]"
   ]
  },
  {
   "cell_type": "code",
   "execution_count": 52,
   "metadata": {},
   "outputs": [
    {
     "data": {
      "text/plain": [
       "<function matplotlib.pyplot.show(close=None, block=None)>"
      ]
     },
     "execution_count": 52,
     "metadata": {},
     "output_type": "execute_result"
    },
    {
     "data": {
      "image/png": "[encoded data removed]",
      "text/plain": [
       "<Figure size 1200x800 with 1 Axes>"
      ]
     },
     "metadata": {},
     "output_type": "display_data"
    }
   ],
   "source": [
    "# Visualization\n",
    "# Need to add x,y labels, titles and grid.\n",
    "# Please add your name on graph titles.\n",
    "\n",
    "# your code\n",
    "plt.figure(figsize=(12, 8))  # Set the figure size\n",
    "plt.bar(dataframe[\"Hill Name\"], dataframe[\"Height (m)\"])\n",
    "plt.title(\"Mohammmed Mohideen Hills with Height Greater than 8100m\", fontsize=16)\n",
    "plt.xlabel(\"Hill Name\", fontsize=12)\n",
    "plt.ylabel(\"Height (m)\", fontsize=12)\n",
    "plt.grid(axis=\"y\", linestyle=\"--\", alpha=0.8)\n",
    "plt.show"
   ]
  },
  {
   "cell_type": "markdown",
   "metadata": {},
   "source": [
    "#### For Graduate students only (CS557)\n",
    "\n",
    "Please add another set of visualizations using the **Prominence** data and explain their significance."
   ]
  },
  {
   "cell_type": "code",
   "execution_count": null,
   "metadata": {},
   "outputs": [],
   "source": []
  }
 ],
 "metadata": {
  "kernelspec": {
   "display_name": "Python [conda env:base] *",
   "language": "python",
   "name": "conda-base-py"
  },
  "language_info": {
   "codemirror_mode": {
    "name": "ipython",
    "version": 3
   },
   "file_extension": ".py",
   "mimetype": "text/x-python",
   "name": "python",
   "nbconvert_exporter": "python",
   "pygments_lexer": "ipython3",
   "version": "3.12.7"
  }
 },
 "nbformat": 4,
 "nbformat_minor": 4
}
